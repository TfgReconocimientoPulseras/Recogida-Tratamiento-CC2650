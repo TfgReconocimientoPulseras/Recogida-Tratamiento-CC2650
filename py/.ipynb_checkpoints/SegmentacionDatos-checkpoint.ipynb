{
 "cells": [
  {
   "cell_type": "code",
   "execution_count": 8,
   "metadata": {
    "collapsed": true
   },
   "outputs": [],
   "source": [
    "import pandas as pd\n",
    "import argparse"
   ]
  },
  {
   "cell_type": "code",
   "execution_count": 16,
   "metadata": {
    "collapsed": false
   },
   "outputs": [],
   "source": [
    "def getStatisticsValues(inputFile, numArchivos, time=1, overlap=500):\n",
    "  \n",
    "    dfVentana = pd.DataFrame()\n",
    "    \n",
    "    for i in range(numArchivos):\n",
    "        dfVentanaAux = pd.DataFrame()\n",
    "    \n",
    "        df = pd.read_csv(\"%s-%d.csv\" %(inputFile, i+1), sep=';', index_col=0, error_bad_lines=False)\n",
    "\n",
    "        df.index = pd.to_datetime(df.index.values, unit='ms')\n",
    "\n",
    "        datosMedia = df.resample('%dL' %(overlap)).mean()\n",
    "        datosMinimo = df.resample('%dL'%(overlap)).min()\n",
    "        datosMaximo = df.resample('%dL' %(overlap)).max()\n",
    "        datosDesviacion = df.resample('%dL' %(overlap)).std()\n",
    "\n",
    "        datosMedia = datosMedia.rolling('%ds' %(time)).mean()\n",
    "        datosMinimo = datosMinimo.rolling('%ds' %(time)).min()\n",
    "        datosMaximo = datosMaximo.rolling('%ds' %(time)).max()\n",
    "        datosDesviacion = datosDesviacion.rolling('%ds' %(time)).std()\n",
    "\n",
    "        dfVentanaAux = dfVentanaAux.append(datosMedia)\n",
    "        dfVentanaAux = dfVentanaAux.append(datosMinimo)        \n",
    "        dfVentanaAux = dfVentanaAux.append(datosMaximo)\n",
    "        dfVentanaAux = dfVentanaAux.append(datosDesviacion)\n",
    "        \n",
    "        dfVentanaAux = dfVentanaAux.T  # Traspuesta para cambiar los nombres a las columnas\n",
    "        dfVentanaAux.columns = ['avg_gyro-alpha', 'avg_gyro-beta', 'avg_gyro-gamma', 'avg_ax', 'avg_ay', 'avg_az',\n",
    "                        'min_gyro-alpha', 'min_gyro-beta', 'min_gyro-gamma', 'min_ax', 'min_ay', 'min_az',\n",
    "                        'max_gyro-alpha', 'max_gyro-beta', 'max_gyro-gamma', 'max_ax', 'max_ay', 'max_az',\n",
    "                        'std_gyro-alpha', 'std_gyro-beta', 'std_gyro-gamma', 'std_ax', 'std_ay', 'std_az']  # Renombrado de columnas\n",
    "        dfVentana = dfVentana.append(dfVentanaAux)\n",
    "        \n",
    "    dfVentana.T.to_csv(\"%s.csv\" %(inputFile), ';')"
   ]
  },
  {
   "cell_type": "code",
   "execution_count": 17,
   "metadata": {
    "collapsed": false
   },
   "outputs": [
    {
     "name": "stderr",
     "output_type": "stream",
     "text": [
      "usage: __main__.py [-h] [-t TIME] [-p PERC] f n\n",
      "__main__.py: error: too few arguments\n"
     ]
    },
    {
     "ename": "SystemExit",
     "evalue": "2",
     "output_type": "error",
     "traceback": [
      "An exception has occurred, use %tb to see the full traceback.\n",
      "\u001b[0;31mSystemExit\u001b[0m\u001b[0;31m:\u001b[0m 2\n"
     ]
    }
   ],
   "source": [
    "if __name__ == \"__main__\":\n",
    "    parser = argparse.ArgumentParser(description='Extract features from inputFile and save them in outputFile')\n",
    "\n",
    "    parser.add_argument(\"f\",\n",
    "                        help=\"Nombre del archivo\")\n",
    "    parser.add_argument(\"n\",\n",
    "                        help=\"Output file\")\n",
    "    parser.add_argument(\"-t\", \"--time\", help=\"Time of window, i.e.= 1 second\",\n",
    "                    default=1)\n",
    "    parser.add_argument(\"-p\", \"--perc\", help=\"overlap, i.e. = 0.5 -> 50 Overlap\",\n",
    "                    default=0.5)\n",
    "    args = parser.parse_args()\n",
    "    #print args.i\n",
    "    #print args.o\n",
    "    #print args.time\n",
    "    #print args.perc\n",
    "    getStatisticsValues(args.f, args.n, args.time, args.perc)\n"
   ]
  },
  {
   "cell_type": "code",
   "execution_count": 17,
   "metadata": {
    "collapsed": false
   },
   "outputs": [
    {
     "ename": "ValueError",
     "evalue": "Length mismatch: Expected axis has 244 elements, new values have 24 elements",
     "output_type": "error",
     "traceback": [
      "\u001b[0;31m---------------------------------------------------------------------------\u001b[0m",
      "\u001b[0;31mValueError\u001b[0m                                Traceback (most recent call last)",
      "\u001b[0;32m<ipython-input-17-4aef3cac0890>\u001b[0m in \u001b[0;36m<module>\u001b[0;34m()\u001b[0m\n\u001b[0;32m----> 1\u001b[0;31m \u001b[0mgetStatisticsValues\u001b[0m\u001b[0;34m(\u001b[0m\u001b[0;34m\"Iban_andando\"\u001b[0m\u001b[0;34m,\u001b[0m \u001b[0;36m5\u001b[0m\u001b[0;34m,\u001b[0m \u001b[0;36m1\u001b[0m\u001b[0;34m,\u001b[0m \u001b[0;36m500\u001b[0m\u001b[0;34m)\u001b[0m\u001b[0;34m\u001b[0m\u001b[0m\n\u001b[0m",
      "\u001b[0;32m<ipython-input-16-322a5ff8f3f0>\u001b[0m in \u001b[0;36mgetStatisticsValues\u001b[0;34m(inputFile, numArchivos, time, overlap)\u001b[0m\n\u001b[1;32m     29\u001b[0m                         \u001b[0;34m'min_gyro-alpha'\u001b[0m\u001b[0;34m,\u001b[0m \u001b[0;34m'min_gyro-beta'\u001b[0m\u001b[0;34m,\u001b[0m \u001b[0;34m'min_gyro-gamma'\u001b[0m\u001b[0;34m,\u001b[0m \u001b[0;34m'min_ax'\u001b[0m\u001b[0;34m,\u001b[0m \u001b[0;34m'min_ay'\u001b[0m\u001b[0;34m,\u001b[0m \u001b[0;34m'min_az'\u001b[0m\u001b[0;34m,\u001b[0m\u001b[0;34m\u001b[0m\u001b[0m\n\u001b[1;32m     30\u001b[0m                         \u001b[0;34m'max_gyro-alpha'\u001b[0m\u001b[0;34m,\u001b[0m \u001b[0;34m'max_gyro-beta'\u001b[0m\u001b[0;34m,\u001b[0m \u001b[0;34m'max_gyro-gamma'\u001b[0m\u001b[0;34m,\u001b[0m \u001b[0;34m'max_ax'\u001b[0m\u001b[0;34m,\u001b[0m \u001b[0;34m'max_ay'\u001b[0m\u001b[0;34m,\u001b[0m \u001b[0;34m'max_az'\u001b[0m\u001b[0;34m,\u001b[0m\u001b[0;34m\u001b[0m\u001b[0m\n\u001b[0;32m---> 31\u001b[0;31m                         'std_gyro-alpha', 'std_gyro-beta', 'std_gyro-gamma', 'std_ax', 'std_ay', 'std_az']  # Renombrado de columnas\n\u001b[0m\u001b[1;32m     32\u001b[0m         \u001b[0mdfVentana\u001b[0m \u001b[0;34m=\u001b[0m \u001b[0mdfVentana\u001b[0m\u001b[0;34m.\u001b[0m\u001b[0mappend\u001b[0m\u001b[0;34m(\u001b[0m\u001b[0mdfVentanaAux\u001b[0m\u001b[0;34m)\u001b[0m\u001b[0;34m\u001b[0m\u001b[0m\n\u001b[1;32m     33\u001b[0m \u001b[0;34m\u001b[0m\u001b[0m\n",
      "\u001b[0;32m/home/daniel/anaconda2/lib/python2.7/site-packages/pandas/core/generic.pyc\u001b[0m in \u001b[0;36m__setattr__\u001b[0;34m(self, name, value)\u001b[0m\n\u001b[1;32m   2755\u001b[0m         \u001b[0;32mtry\u001b[0m\u001b[0;34m:\u001b[0m\u001b[0;34m\u001b[0m\u001b[0m\n\u001b[1;32m   2756\u001b[0m             \u001b[0mobject\u001b[0m\u001b[0;34m.\u001b[0m\u001b[0m__getattribute__\u001b[0m\u001b[0;34m(\u001b[0m\u001b[0mself\u001b[0m\u001b[0;34m,\u001b[0m \u001b[0mname\u001b[0m\u001b[0;34m)\u001b[0m\u001b[0;34m\u001b[0m\u001b[0m\n\u001b[0;32m-> 2757\u001b[0;31m             \u001b[0;32mreturn\u001b[0m \u001b[0mobject\u001b[0m\u001b[0;34m.\u001b[0m\u001b[0m__setattr__\u001b[0m\u001b[0;34m(\u001b[0m\u001b[0mself\u001b[0m\u001b[0;34m,\u001b[0m \u001b[0mname\u001b[0m\u001b[0;34m,\u001b[0m \u001b[0mvalue\u001b[0m\u001b[0;34m)\u001b[0m\u001b[0;34m\u001b[0m\u001b[0m\n\u001b[0m\u001b[1;32m   2758\u001b[0m         \u001b[0;32mexcept\u001b[0m \u001b[0mAttributeError\u001b[0m\u001b[0;34m:\u001b[0m\u001b[0;34m\u001b[0m\u001b[0m\n\u001b[1;32m   2759\u001b[0m             \u001b[0;32mpass\u001b[0m\u001b[0;34m\u001b[0m\u001b[0m\n",
      "\u001b[0;32mpandas/src/properties.pyx\u001b[0m in \u001b[0;36mpandas.lib.AxisProperty.__set__ (pandas/lib.c:46249)\u001b[0;34m()\u001b[0m\n",
      "\u001b[0;32m/home/daniel/anaconda2/lib/python2.7/site-packages/pandas/core/generic.pyc\u001b[0m in \u001b[0;36m_set_axis\u001b[0;34m(self, axis, labels)\u001b[0m\n\u001b[1;32m    446\u001b[0m \u001b[0;34m\u001b[0m\u001b[0m\n\u001b[1;32m    447\u001b[0m     \u001b[0;32mdef\u001b[0m \u001b[0m_set_axis\u001b[0m\u001b[0;34m(\u001b[0m\u001b[0mself\u001b[0m\u001b[0;34m,\u001b[0m \u001b[0maxis\u001b[0m\u001b[0;34m,\u001b[0m \u001b[0mlabels\u001b[0m\u001b[0;34m)\u001b[0m\u001b[0;34m:\u001b[0m\u001b[0;34m\u001b[0m\u001b[0m\n\u001b[0;32m--> 448\u001b[0;31m         \u001b[0mself\u001b[0m\u001b[0;34m.\u001b[0m\u001b[0m_data\u001b[0m\u001b[0;34m.\u001b[0m\u001b[0mset_axis\u001b[0m\u001b[0;34m(\u001b[0m\u001b[0maxis\u001b[0m\u001b[0;34m,\u001b[0m \u001b[0mlabels\u001b[0m\u001b[0;34m)\u001b[0m\u001b[0;34m\u001b[0m\u001b[0m\n\u001b[0m\u001b[1;32m    449\u001b[0m         \u001b[0mself\u001b[0m\u001b[0;34m.\u001b[0m\u001b[0m_clear_item_cache\u001b[0m\u001b[0;34m(\u001b[0m\u001b[0;34m)\u001b[0m\u001b[0;34m\u001b[0m\u001b[0m\n\u001b[1;32m    450\u001b[0m \u001b[0;34m\u001b[0m\u001b[0m\n",
      "\u001b[0;32m/home/daniel/anaconda2/lib/python2.7/site-packages/pandas/core/internals.pyc\u001b[0m in \u001b[0;36mset_axis\u001b[0;34m(self, axis, new_labels)\u001b[0m\n\u001b[1;32m   2800\u001b[0m             raise ValueError('Length mismatch: Expected axis has %d elements, '\n\u001b[1;32m   2801\u001b[0m                              \u001b[0;34m'new values have %d elements'\u001b[0m \u001b[0;34m%\u001b[0m\u001b[0;34m\u001b[0m\u001b[0m\n\u001b[0;32m-> 2802\u001b[0;31m                              (old_len, new_len))\n\u001b[0m\u001b[1;32m   2803\u001b[0m \u001b[0;34m\u001b[0m\u001b[0m\n\u001b[1;32m   2804\u001b[0m         \u001b[0mself\u001b[0m\u001b[0;34m.\u001b[0m\u001b[0maxes\u001b[0m\u001b[0;34m[\u001b[0m\u001b[0maxis\u001b[0m\u001b[0;34m]\u001b[0m \u001b[0;34m=\u001b[0m \u001b[0mnew_labels\u001b[0m\u001b[0;34m\u001b[0m\u001b[0m\n",
      "\u001b[0;31mValueError\u001b[0m: Length mismatch: Expected axis has 244 elements, new values have 24 elements"
     ]
    }
   ],
   "source": [
    "getStatisticsValues(\"Iban_andando\", 5, 1, 500)"
   ]
  },
  {
   "cell_type": "code",
   "execution_count": 5,
   "metadata": {
    "collapsed": false
   },
   "outputs": [
    {
     "data": {
      "text/plain": [
       "u'0.19.2'"
      ]
     },
     "execution_count": 5,
     "metadata": {},
     "output_type": "execute_result"
    }
   ],
   "source": [
    "pd.__version__"
   ]
  },
  {
   "cell_type": "code",
   "execution_count": null,
   "metadata": {
    "collapsed": true
   },
   "outputs": [],
   "source": []
  }
 ],
 "metadata": {
  "anaconda-cloud": {},
  "kernelspec": {
   "display_name": "Python [conda root]",
   "language": "python",
   "name": "conda-root-py"
  },
  "language_info": {
   "codemirror_mode": {
    "name": "ipython",
    "version": 2
   },
   "file_extension": ".py",
   "mimetype": "text/x-python",
   "name": "python",
   "nbconvert_exporter": "python",
   "pygments_lexer": "ipython2",
   "version": "2.7.12"
  }
 },
 "nbformat": 4,
 "nbformat_minor": 1
}
